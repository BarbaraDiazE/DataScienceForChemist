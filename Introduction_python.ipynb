{
 "cells": [
  {
   "cell_type": "code",
   "execution_count": 5,
   "metadata": {},
   "outputs": [
    {
     "data": {
      "text/plain": [
       "'\\nVARIABLES\\n'"
      ]
     },
     "execution_count": 5,
     "metadata": {},
     "output_type": "execute_result"
    }
   ],
   "source": [
    "\"\"\"\n",
    "VARIABLES\n",
    "\"\"\""
   ]
  },
  {
   "cell_type": "code",
   "execution_count": 6,
   "metadata": {},
   "outputs": [],
   "source": [
    "#Las variables son creadas al memento en que les asignas un valor"
   ]
  },
  {
   "cell_type": "code",
   "execution_count": 7,
   "metadata": {},
   "outputs": [],
   "source": [
    "#Asignar una variable\n",
    "a = \"La Aspirina\""
   ]
  },
  {
   "cell_type": "code",
   "execution_count": 8,
   "metadata": {},
   "outputs": [
    {
     "name": "stdout",
     "output_type": "stream",
     "text": [
      "La Aspirina\n"
     ]
    }
   ],
   "source": [
    "#Visualizar una variable\n",
    "print(a)"
   ]
  },
  {
   "cell_type": "code",
   "execution_count": 9,
   "metadata": {},
   "outputs": [],
   "source": [
    "b  = \" es un medicamento producido por Bayer\""
   ]
  },
  {
   "cell_type": "code",
   "execution_count": 10,
   "metadata": {},
   "outputs": [
    {
     "name": "stdout",
     "output_type": "stream",
     "text": [
      "La Aspirina es un medicamento producido por Bayer\n"
     ]
    }
   ],
   "source": [
    "print( a + b)"
   ]
  },
  {
   "cell_type": "code",
   "execution_count": 11,
   "metadata": {},
   "outputs": [
    {
     "name": "stdout",
     "output_type": "stream",
     "text": [
      "La Aspirina es un medicamento producido por Bayer\n"
     ]
    }
   ],
   "source": [
    "c = a + b\n",
    "print(c)"
   ]
  },
  {
   "cell_type": "code",
   "execution_count": 12,
   "metadata": {},
   "outputs": [],
   "source": [
    "dosis = 500"
   ]
  },
  {
   "cell_type": "code",
   "execution_count": 13,
   "metadata": {},
   "outputs": [
    {
     "name": "stdout",
     "output_type": "stream",
     "text": [
      "500\n"
     ]
    }
   ],
   "source": [
    "print(dosis)"
   ]
  },
  {
   "cell_type": "code",
   "execution_count": 14,
   "metadata": {},
   "outputs": [],
   "source": [
    "dosis1 = \" 500\""
   ]
  },
  {
   "cell_type": "code",
   "execution_count": 15,
   "metadata": {},
   "outputs": [
    {
     "name": "stdout",
     "output_type": "stream",
     "text": [
      "La Aspirinatiene 500 mg de acido acetilsalico\n"
     ]
    }
   ],
   "source": [
    "print(a + \"tiene\" + dosis1 + \" mg de acido acetilsalico\")"
   ]
  },
  {
   "cell_type": "code",
   "execution_count": 16,
   "metadata": {},
   "outputs": [
    {
     "data": {
      "text/plain": [
       "'\"\"\\n#Tipos de variables:\\n-strings (cadenas de caracteres)\\n-Numbers (Números):\\n    a) int (enteros)\\n    b) float (decimales)\\n'"
      ]
     },
     "execution_count": 16,
     "metadata": {},
     "output_type": "execute_result"
    }
   ],
   "source": [
    "\"\"\"\"\"\n",
    "#Tipos de variables:\n",
    "-strings (cadenas de caracteres)\n",
    "-Numbers (Números):\n",
    "    a) int (enteros)\n",
    "    b) float (decimales)\n",
    "\"\"\"\"\""
   ]
  },
  {
   "cell_type": "code",
   "execution_count": 17,
   "metadata": {},
   "outputs": [],
   "source": [
    "#identificar el tipo de variable"
   ]
  },
  {
   "cell_type": "code",
   "execution_count": 18,
   "metadata": {},
   "outputs": [
    {
     "data": {
      "text/plain": [
       "int"
      ]
     },
     "execution_count": 18,
     "metadata": {},
     "output_type": "execute_result"
    }
   ],
   "source": [
    "type(dosis)"
   ]
  },
  {
   "cell_type": "code",
   "execution_count": 19,
   "metadata": {},
   "outputs": [
    {
     "data": {
      "text/plain": [
       "str"
      ]
     },
     "execution_count": 19,
     "metadata": {},
     "output_type": "execute_result"
    }
   ],
   "source": [
    "type(dosis1)"
   ]
  },
  {
   "cell_type": "code",
   "execution_count": 20,
   "metadata": {},
   "outputs": [
    {
     "data": {
      "text/plain": [
       "'\\nOperadores\\npermiten realizar operaciones matemáticas\\n'"
      ]
     },
     "execution_count": 20,
     "metadata": {},
     "output_type": "execute_result"
    }
   ],
   "source": [
    "\"\"\"\n",
    "Operadores\n",
    "permiten realizar operaciones matemáticas\n",
    "\"\"\""
   ]
  },
  {
   "cell_type": "code",
   "execution_count": 21,
   "metadata": {},
   "outputs": [
    {
     "name": "stdout",
     "output_type": "stream",
     "text": [
      "8\n"
     ]
    }
   ],
   "source": [
    "x = 5\n",
    "y = 3\n",
    "\n",
    "print(x + y)"
   ]
  },
  {
   "cell_type": "code",
   "execution_count": 22,
   "metadata": {},
   "outputs": [
    {
     "name": "stdout",
     "output_type": "stream",
     "text": [
      "4.0\n"
     ]
    }
   ],
   "source": [
    "x = 12\n",
    "y = 3\n",
    "\n",
    "print(x / y)"
   ]
  },
  {
   "cell_type": "code",
   "execution_count": 23,
   "metadata": {},
   "outputs": [
    {
     "name": "stdout",
     "output_type": "stream",
     "text": [
      "False\n"
     ]
    }
   ],
   "source": [
    "#verificar si dos variables numericas son iguales\n",
    "x = 5\n",
    "y = 3\n",
    "\n",
    "print(x == y)"
   ]
  },
  {
   "cell_type": "code",
   "execution_count": 24,
   "metadata": {},
   "outputs": [
    {
     "data": {
      "text/plain": [
       "'\\nESTRUCTURAS DE DATOS\\n\\nA)List is a collection which is ordered and changeable. Allows duplicate members.\\n\\nB)Tuple is a collection which is ordered and unchangeable. Allows duplicate members.\\n\\nC)Dictionary is a collection which is unordered, changeable and indexed. No duplicate members.\\n\\nhttps://www.w3schools.com/python/python_lists.asp\\n'"
      ]
     },
     "execution_count": 24,
     "metadata": {},
     "output_type": "execute_result"
    }
   ],
   "source": [
    "\"\"\"\n",
    "ESTRUCTURAS DE DATOS\n",
    "\n",
    "A)List is a collection which is ordered and changeable. Allows duplicate members.\n",
    "\n",
    "B)Tuple is a collection which is ordered and unchangeable. Allows duplicate members.\n",
    "\n",
    "C)Dictionary is a collection which is unordered, changeable and indexed. No duplicate members.\n",
    "\n",
    "https://www.w3schools.com/python/python_lists.asp\n",
    "\"\"\""
   ]
  },
  {
   "cell_type": "code",
   "execution_count": 25,
   "metadata": {},
   "outputs": [],
   "source": [
    "#Listas\n",
    "#nombre_de_la_lista = [\"elemento1\", \"elemento2\", \"elemento3\"]\n",
    "antidiabeticos = [\"Metformina\", \"Glimepirida\",\" Empagliflozina\" ]"
   ]
  },
  {
   "cell_type": "code",
   "execution_count": 26,
   "metadata": {},
   "outputs": [],
   "source": [
    "dosis_antidiabeticos = [500, 4, 12]"
   ]
  },
  {
   "cell_type": "code",
   "execution_count": 27,
   "metadata": {},
   "outputs": [
    {
     "name": "stdout",
     "output_type": "stream",
     "text": [
      "['Metformina', 'Glimepirida', ' Empagliflozina']\n"
     ]
    }
   ],
   "source": [
    "#visualizar una lista\n",
    "print(antidiabeticos)"
   ]
  },
  {
   "cell_type": "code",
   "execution_count": 28,
   "metadata": {},
   "outputs": [
    {
     "name": "stdout",
     "output_type": "stream",
     "text": [
      "<class 'list'>\n"
     ]
    }
   ],
   "source": [
    "#verificar typo de variable\n",
    "print(type(antidiabeticos))"
   ]
  },
  {
   "cell_type": "code",
   "execution_count": 29,
   "metadata": {},
   "outputs": [
    {
     "name": "stdout",
     "output_type": "stream",
     "text": [
      " Empagliflozina\n"
     ]
    }
   ],
   "source": [
    "#elementos de una lista\n",
    "#visualizar un elemento \n",
    "#Nombredelalista[indice]\n",
    "print(antidiabeticos[2])"
   ]
  },
  {
   "cell_type": "code",
   "execution_count": 30,
   "metadata": {},
   "outputs": [],
   "source": [
    "antihipertensivos = [\"Atenolol\", \"Captopril\", \"Enalapril\"]"
   ]
  },
  {
   "cell_type": "code",
   "execution_count": 31,
   "metadata": {},
   "outputs": [
    {
     "data": {
      "text/plain": [
       "['Atenolol', 'Captopril', 'Enalapril']"
      ]
     },
     "execution_count": 31,
     "metadata": {},
     "output_type": "execute_result"
    }
   ],
   "source": [
    "antihipertensivos"
   ]
  },
  {
   "cell_type": "code",
   "execution_count": 32,
   "metadata": {},
   "outputs": [],
   "source": [
    "dosis_antihipertensivos = [10,50, 20 ]"
   ]
  },
  {
   "cell_type": "code",
   "execution_count": 33,
   "metadata": {},
   "outputs": [
    {
     "data": {
      "text/plain": [
       "'\\nGenerar un data frame con pandas\\n'"
      ]
     },
     "execution_count": 33,
     "metadata": {},
     "output_type": "execute_result"
    }
   ],
   "source": [
    "\"\"\"\n",
    "Generar un data frame con pandas\n",
    "\"\"\""
   ]
  },
  {
   "cell_type": "code",
   "execution_count": 34,
   "metadata": {},
   "outputs": [],
   "source": [
    "import pandas as pd\n",
    "import numpy as np"
   ]
  },
  {
   "cell_type": "code",
   "execution_count": 35,
   "metadata": {},
   "outputs": [
    {
     "data": {
      "text/plain": [
       "[['Metformina', 'Glimepirida', ' Empagliflozina'],\n",
       " [500, 4, 12],\n",
       " ['Atenolol', 'Captopril', 'Enalapril'],\n",
       " [10, 50, 20]]"
      ]
     },
     "execution_count": 35,
     "metadata": {},
     "output_type": "execute_result"
    }
   ],
   "source": [
    "#nombre de las columnas\n",
    "columns = [\"antidiabetico\", \"dosis\", \"antihipertensivo\", \"dosis\"]\n",
    "#generar la data\n",
    "data = [antidiabeticos, dosis_antidiabeticos, antihipertensivos, dosis_antihipertensivos]\n",
    "data"
   ]
  },
  {
   "cell_type": "code",
   "execution_count": 36,
   "metadata": {},
   "outputs": [],
   "source": [
    "data = np.transpose(data, axes = None)"
   ]
  },
  {
   "cell_type": "code",
   "execution_count": 37,
   "metadata": {},
   "outputs": [],
   "source": [
    "Dataframe = pd.DataFrame(\n",
    "                    data = data,\n",
    "                    columns = columns)"
   ]
  },
  {
   "cell_type": "code",
   "execution_count": 38,
   "metadata": {},
   "outputs": [
    {
     "data": {
      "text/html": [
       "<div>\n",
       "<style scoped>\n",
       "    .dataframe tbody tr th:only-of-type {\n",
       "        vertical-align: middle;\n",
       "    }\n",
       "\n",
       "    .dataframe tbody tr th {\n",
       "        vertical-align: top;\n",
       "    }\n",
       "\n",
       "    .dataframe thead th {\n",
       "        text-align: right;\n",
       "    }\n",
       "</style>\n",
       "<table border=\"1\" class=\"dataframe\">\n",
       "  <thead>\n",
       "    <tr style=\"text-align: right;\">\n",
       "      <th></th>\n",
       "      <th>antidiabetico</th>\n",
       "      <th>dosis</th>\n",
       "      <th>antihipertensivo</th>\n",
       "      <th>dosis</th>\n",
       "    </tr>\n",
       "  </thead>\n",
       "  <tbody>\n",
       "    <tr>\n",
       "      <th>0</th>\n",
       "      <td>Metformina</td>\n",
       "      <td>500</td>\n",
       "      <td>Atenolol</td>\n",
       "      <td>10</td>\n",
       "    </tr>\n",
       "    <tr>\n",
       "      <th>1</th>\n",
       "      <td>Glimepirida</td>\n",
       "      <td>4</td>\n",
       "      <td>Captopril</td>\n",
       "      <td>50</td>\n",
       "    </tr>\n",
       "    <tr>\n",
       "      <th>2</th>\n",
       "      <td>Empagliflozina</td>\n",
       "      <td>12</td>\n",
       "      <td>Enalapril</td>\n",
       "      <td>20</td>\n",
       "    </tr>\n",
       "  </tbody>\n",
       "</table>\n",
       "</div>"
      ],
      "text/plain": [
       "     antidiabetico dosis antihipertensivo dosis\n",
       "0       Metformina   500         Atenolol    10\n",
       "1      Glimepirida     4        Captopril    50\n",
       "2   Empagliflozina    12        Enalapril    20"
      ]
     },
     "execution_count": 38,
     "metadata": {},
     "output_type": "execute_result"
    }
   ],
   "source": [
    "#Visualizar el DataFrame\n",
    "Dataframe"
   ]
  },
  {
   "cell_type": "code",
   "execution_count": 39,
   "metadata": {},
   "outputs": [],
   "source": [
    "#Guardar en formato .csv"
   ]
  },
  {
   "cell_type": "code",
   "execution_count": 40,
   "metadata": {},
   "outputs": [],
   "source": [
    "Dataframe.to_csv(\"MyFirstDataFrame.csv\", encoding = \"utf-8\", index = False)"
   ]
  },
  {
   "cell_type": "code",
   "execution_count": 41,
   "metadata": {},
   "outputs": [
    {
     "data": {
      "text/plain": [
       "'\\nCONDITIONS AND STATEMENTS\\n'"
      ]
     },
     "execution_count": 41,
     "metadata": {},
     "output_type": "execute_result"
    }
   ],
   "source": [
    "\"\"\"\n",
    "CONDITIONS AND STATEMENTS\n",
    "\"\"\""
   ]
  },
  {
   "cell_type": "code",
   "execution_count": 42,
   "metadata": {},
   "outputs": [
    {
     "name": "stdout",
     "output_type": "stream",
     "text": [
      "b is greater than a\n"
     ]
    }
   ],
   "source": [
    "#IF  condicion, para ejecutar una acción\n",
    "a = 33\n",
    "b = 200\n",
    "if b > a:\n",
    "  print(\"b is greater than a\")"
   ]
  },
  {
   "cell_type": "code",
   "execution_count": 43,
   "metadata": {},
   "outputs": [],
   "source": [
    "a = 33\n",
    "b = 200\n",
    "if b < a:\n",
    "  print(\"b is greater than a\")"
   ]
  },
  {
   "cell_type": "code",
   "execution_count": 44,
   "metadata": {},
   "outputs": [
    {
     "name": "stdout",
     "output_type": "stream",
     "text": [
      "b is not greater than a\n"
     ]
    }
   ],
   "source": [
    "#ELSE captura cualquier cosa que no cumpla las condiciones anteriores.\n",
    "a = 200\n",
    "b = 33\n",
    "if b > a:\n",
    "  print(\"b is greater than a\")\n",
    "else:\n",
    "  print(\"b is not greater than a\")"
   ]
  },
  {
   "cell_type": "code",
   "execution_count": 45,
   "metadata": {},
   "outputs": [
    {
     "name": "stdout",
     "output_type": "stream",
     "text": [
      "1\n",
      "2\n",
      "3\n",
      "4\n",
      "5\n"
     ]
    }
   ],
   "source": [
    "#WHILE \n",
    "#loop we can execute a set of statements as long as a condition is true.\n",
    "i = 1\n",
    "while i < 6:\n",
    "  print(i)\n",
    "  i += 1"
   ]
  },
  {
   "cell_type": "code",
   "execution_count": 46,
   "metadata": {},
   "outputs": [
    {
     "name": "stdout",
     "output_type": "stream",
     "text": [
      "1\n",
      "2\n",
      "3\n"
     ]
    }
   ],
   "source": [
    "#BREAK\n",
    "#we can stop the loop even if the while condition is true:\n",
    "i = 1\n",
    "while i < 6:\n",
    "  print(i)\n",
    "  if i == 3:\n",
    "    break\n",
    "  i += 1"
   ]
  },
  {
   "cell_type": "code",
   "execution_count": 47,
   "metadata": {},
   "outputs": [
    {
     "name": "stdout",
     "output_type": "stream",
     "text": [
      "Metformina es un antidiabetico\n",
      "Glimepirida es un antidiabetico\n",
      " Empagliflozina es un antidiabetico\n"
     ]
    }
   ],
   "source": [
    "#FOR\n",
    "# loop is used for iterating over a sequence \n",
    "for i in antidiabeticos:\n",
    "    print(i + \" es un antidiabetico\")"
   ]
  },
  {
   "cell_type": "code",
   "execution_count": 48,
   "metadata": {},
   "outputs": [
    {
     "name": "stdout",
     "output_type": "stream",
     "text": [
      "100\n",
      "200\n",
      "300\n",
      "400\n",
      "500\n"
     ]
    }
   ],
   "source": [
    "z = [1,2,3,4,5]\n",
    "for i in z:\n",
    "    print(i * 100)"
   ]
  },
  {
   "cell_type": "code",
   "execution_count": 49,
   "metadata": {},
   "outputs": [],
   "source": [
    "\"\"\"\n",
    "FUNCIONES\n",
    "\"\"\"\n",
    "#Crear una función\n",
    "def my_function():\n",
    "  print(\"Hello from a function\")"
   ]
  },
  {
   "cell_type": "code",
   "execution_count": 50,
   "metadata": {},
   "outputs": [
    {
     "name": "stdout",
     "output_type": "stream",
     "text": [
      "Hello from a function\n"
     ]
    }
   ],
   "source": [
    "#Invocar una función\n",
    "my_function()"
   ]
  },
  {
   "cell_type": "code",
   "execution_count": 51,
   "metadata": {},
   "outputs": [],
   "source": [
    "def my_function2(parametro):\n",
    "    for i in parametro:\n",
    "        print(i + \" es un medicamento\")"
   ]
  },
  {
   "cell_type": "code",
   "execution_count": 52,
   "metadata": {},
   "outputs": [
    {
     "name": "stdout",
     "output_type": "stream",
     "text": [
      "Metformina es un medicamento\n",
      "Glimepirida es un medicamento\n",
      " Empagliflozina es un medicamento\n"
     ]
    }
   ],
   "source": [
    "my_function2(antidiabeticos)"
   ]
  },
  {
   "cell_type": "code",
   "execution_count": 53,
   "metadata": {},
   "outputs": [],
   "source": [
    "def my_function2(parametro):\n",
    "    for i in parametro:\n",
    "        return(i + \" es un medicamento\")"
   ]
  },
  {
   "cell_type": "code",
   "execution_count": 54,
   "metadata": {},
   "outputs": [
    {
     "data": {
      "text/plain": [
       "'Metformina es un medicamento'"
      ]
     },
     "execution_count": 54,
     "metadata": {},
     "output_type": "execute_result"
    }
   ],
   "source": [
    "my_function2(antidiabeticos)"
   ]
  },
  {
   "cell_type": "code",
   "execution_count": 55,
   "metadata": {},
   "outputs": [
    {
     "data": {
      "text/plain": [
       "'\\nIMPORT DATA FRAMES\\ndownload biofacquim.herokuapp.com\\n'"
      ]
     },
     "execution_count": 55,
     "metadata": {},
     "output_type": "execute_result"
    }
   ],
   "source": [
    "\"\"\"\n",
    "IMPORT DATA FRAMES\n",
    "download biofacquim.herokuapp.com\n",
    "\"\"\""
   ]
  },
  {
   "cell_type": "code",
   "execution_count": 56,
   "metadata": {},
   "outputs": [],
   "source": [
    "Biofacquim = pd.read_csv(\"biofacquim.csv\")"
   ]
  },
  {
   "cell_type": "code",
   "execution_count": 57,
   "metadata": {},
   "outputs": [
    {
     "data": {
      "text/html": [
       "<div>\n",
       "<style scoped>\n",
       "    .dataframe tbody tr th:only-of-type {\n",
       "        vertical-align: middle;\n",
       "    }\n",
       "\n",
       "    .dataframe tbody tr th {\n",
       "        vertical-align: top;\n",
       "    }\n",
       "\n",
       "    .dataframe thead th {\n",
       "        text-align: right;\n",
       "    }\n",
       "</style>\n",
       "<table border=\"1\" class=\"dataframe\">\n",
       "  <thead>\n",
       "    <tr style=\"text-align: right;\">\n",
       "      <th></th>\n",
       "      <th>ID</th>\n",
       "      <th>Name</th>\n",
       "      <th>Reference</th>\n",
       "      <th>Year</th>\n",
       "      <th>Kingdom</th>\n",
       "      <th>Genus</th>\n",
       "      <th>Specie</th>\n",
       "      <th>SMILES</th>\n",
       "      <th>DOI</th>\n",
       "      <th>Journal</th>\n",
       "      <th>...</th>\n",
       "      <th>Activity_3</th>\n",
       "      <th>IC50_4</th>\n",
       "      <th>Activity_4</th>\n",
       "      <th>IC50_5</th>\n",
       "      <th>Activity_5</th>\n",
       "      <th>IC50_6</th>\n",
       "      <th>Activity_6</th>\n",
       "      <th>Bioactivity</th>\n",
       "      <th>Bioactivity(2)</th>\n",
       "      <th>Bioactivity(3)</th>\n",
       "    </tr>\n",
       "  </thead>\n",
       "  <tbody>\n",
       "    <tr>\n",
       "      <th>0</th>\n",
       "      <td>FQNP392</td>\n",
       "      <td>Lichexanthone</td>\n",
       "      <td>J_Nat_Prod_2000;63_(10):1396-1399</td>\n",
       "      <td>2000</td>\n",
       "      <td>Fungus</td>\n",
       "      <td>Parmotrema</td>\n",
       "      <td>Parmotrema_tinctorum</td>\n",
       "      <td>O(C)c1cc(O)c2C(=O)c3c(C)cc(OC)cc3Oc2c1</td>\n",
       "      <td>10.1021/np0001326</td>\n",
       "      <td>Journal_of_Natural_Products</td>\n",
       "      <td>...</td>\n",
       "      <td>Seeding_Germination_A_hypochondriacus</td>\n",
       "      <td>&gt;0.002</td>\n",
       "      <td>Seeding_Germination_E_crusgalli</td>\n",
       "      <td>0.000300</td>\n",
       "      <td>Photosynthesis</td>\n",
       "      <td>NaN</td>\n",
       "      <td>NaN</td>\n",
       "      <td>Phytotoxic</td>\n",
       "      <td>NaN</td>\n",
       "      <td>NoBioactivity(3)</td>\n",
       "    </tr>\n",
       "    <tr>\n",
       "      <th>1</th>\n",
       "      <td>FQNP391</td>\n",
       "      <td>Methyl_haematommate</td>\n",
       "      <td>J_Nat_Prod_2000;63_(10):1396-1399</td>\n",
       "      <td>2000</td>\n",
       "      <td>Fungus</td>\n",
       "      <td>Parmotrema</td>\n",
       "      <td>Parmotrema_tinctorum</td>\n",
       "      <td>O=C(OC)c1c(O)c(C=O)c(O)cc1C</td>\n",
       "      <td>10.1021/np0001326</td>\n",
       "      <td>Journal_of_Natural_Products</td>\n",
       "      <td>...</td>\n",
       "      <td>Seeding_Germination_A_hypochondriacus</td>\n",
       "      <td>0.0011</td>\n",
       "      <td>Seeding_Germination_E_crusgalli</td>\n",
       "      <td>0.000300</td>\n",
       "      <td>Photosynthesis</td>\n",
       "      <td>NaN</td>\n",
       "      <td>NaN</td>\n",
       "      <td>Phytotoxic</td>\n",
       "      <td>NaN</td>\n",
       "      <td>NoBioactivity(3)</td>\n",
       "    </tr>\n",
       "    <tr>\n",
       "      <th>2</th>\n",
       "      <td>FQNP393</td>\n",
       "      <td>Methyl_orsellinate</td>\n",
       "      <td>J_Nat_Prod_2000;63_(10):1396-1399</td>\n",
       "      <td>2000</td>\n",
       "      <td>Fungus</td>\n",
       "      <td>Parmotrema</td>\n",
       "      <td>Parmotrema_tinctorum</td>\n",
       "      <td>O=C(OC)c1c(O)cc(O)cc1C</td>\n",
       "      <td>10.1021/np0001326</td>\n",
       "      <td>Journal_of_Natural_Products</td>\n",
       "      <td>...</td>\n",
       "      <td>Seeding_Germination_A_hypochondriacus</td>\n",
       "      <td>0.00068</td>\n",
       "      <td>Seeding_Germination_E_crusgalli</td>\n",
       "      <td>0.000300</td>\n",
       "      <td>Photosynthesis</td>\n",
       "      <td>0.000008</td>\n",
       "      <td>CaM_Dependent_PDE</td>\n",
       "      <td>Phytotoxic</td>\n",
       "      <td>NaN</td>\n",
       "      <td>NoBioactivity(3)</td>\n",
       "    </tr>\n",
       "    <tr>\n",
       "      <th>3</th>\n",
       "      <td>FQNP390</td>\n",
       "      <td>Gyrophoric_acid</td>\n",
       "      <td>J_Nat_Prod_2000;63_(10):1396-1399</td>\n",
       "      <td>2000</td>\n",
       "      <td>Fungus</td>\n",
       "      <td>Parmotrema</td>\n",
       "      <td>Parmotrema_tinctorum</td>\n",
       "      <td>O=C(Oc1cc(O)c(C(=O)O)c(C)c1)c1c(O)cc(OC(=O)c2c...</td>\n",
       "      <td>10.1021/np0001326</td>\n",
       "      <td>Journal_of_Natural_Products</td>\n",
       "      <td>...</td>\n",
       "      <td>Seeding_Germination_A_hypochondriacus</td>\n",
       "      <td>0.002</td>\n",
       "      <td>Seeding_Germination_E_crusgalli</td>\n",
       "      <td>0.000087</td>\n",
       "      <td>Photosynthesis</td>\n",
       "      <td>0.000060</td>\n",
       "      <td>Proton_Uptake</td>\n",
       "      <td>Phytotoxic</td>\n",
       "      <td>NaN</td>\n",
       "      <td>NoBioactivity(3)</td>\n",
       "    </tr>\n",
       "    <tr>\n",
       "      <th>4</th>\n",
       "      <td>FQNP389</td>\n",
       "      <td>Lecanorin</td>\n",
       "      <td>J_Nat_Prod_2000;63_(10):1396-1399</td>\n",
       "      <td>2000</td>\n",
       "      <td>Fungus</td>\n",
       "      <td>Parmotrema</td>\n",
       "      <td>Parmotrema_tinctorum</td>\n",
       "      <td>O=C(Oc1cc(O)cc(C)c1)c1c(O)cc(O)cc1C</td>\n",
       "      <td>10.1021/np0001326</td>\n",
       "      <td>Journal_of_Natural_Products</td>\n",
       "      <td>...</td>\n",
       "      <td>Seeding_Germination_A_hypochondriacus</td>\n",
       "      <td>0.00071</td>\n",
       "      <td>Seeding_Germination_E_crusgalli</td>\n",
       "      <td>0.000136</td>\n",
       "      <td>Photosynthesis</td>\n",
       "      <td>0.000140</td>\n",
       "      <td>Proton_Uptake</td>\n",
       "      <td>Phytotoxic</td>\n",
       "      <td>NaN</td>\n",
       "      <td>NoBioactivity(3)</td>\n",
       "    </tr>\n",
       "  </tbody>\n",
       "</table>\n",
       "<p>5 rows × 27 columns</p>\n",
       "</div>"
      ],
      "text/plain": [
       "        ID                 Name                          Reference  Year  \\\n",
       "0  FQNP392        Lichexanthone  J_Nat_Prod_2000;63_(10):1396-1399  2000   \n",
       "1  FQNP391  Methyl_haematommate  J_Nat_Prod_2000;63_(10):1396-1399  2000   \n",
       "2  FQNP393   Methyl_orsellinate  J_Nat_Prod_2000;63_(10):1396-1399  2000   \n",
       "3  FQNP390      Gyrophoric_acid  J_Nat_Prod_2000;63_(10):1396-1399  2000   \n",
       "4  FQNP389            Lecanorin  J_Nat_Prod_2000;63_(10):1396-1399  2000   \n",
       "\n",
       "  Kingdom       Genus                Specie  \\\n",
       "0  Fungus  Parmotrema  Parmotrema_tinctorum   \n",
       "1  Fungus  Parmotrema  Parmotrema_tinctorum   \n",
       "2  Fungus  Parmotrema  Parmotrema_tinctorum   \n",
       "3  Fungus  Parmotrema  Parmotrema_tinctorum   \n",
       "4  Fungus  Parmotrema  Parmotrema_tinctorum   \n",
       "\n",
       "                                              SMILES                DOI  \\\n",
       "0             O(C)c1cc(O)c2C(=O)c3c(C)cc(OC)cc3Oc2c1  10.1021/np0001326   \n",
       "1                        O=C(OC)c1c(O)c(C=O)c(O)cc1C  10.1021/np0001326   \n",
       "2                             O=C(OC)c1c(O)cc(O)cc1C  10.1021/np0001326   \n",
       "3  O=C(Oc1cc(O)c(C(=O)O)c(C)c1)c1c(O)cc(OC(=O)c2c...  10.1021/np0001326   \n",
       "4                O=C(Oc1cc(O)cc(C)c1)c1c(O)cc(O)cc1C  10.1021/np0001326   \n",
       "\n",
       "                       Journal        ...          \\\n",
       "0  Journal_of_Natural_Products        ...           \n",
       "1  Journal_of_Natural_Products        ...           \n",
       "2  Journal_of_Natural_Products        ...           \n",
       "3  Journal_of_Natural_Products        ...           \n",
       "4  Journal_of_Natural_Products        ...           \n",
       "\n",
       "                              Activity_3   IC50_4  \\\n",
       "0  Seeding_Germination_A_hypochondriacus   >0.002   \n",
       "1  Seeding_Germination_A_hypochondriacus   0.0011   \n",
       "2  Seeding_Germination_A_hypochondriacus  0.00068   \n",
       "3  Seeding_Germination_A_hypochondriacus    0.002   \n",
       "4  Seeding_Germination_A_hypochondriacus  0.00071   \n",
       "\n",
       "                        Activity_4    IC50_5      Activity_5    IC50_6  \\\n",
       "0  Seeding_Germination_E_crusgalli  0.000300  Photosynthesis       NaN   \n",
       "1  Seeding_Germination_E_crusgalli  0.000300  Photosynthesis       NaN   \n",
       "2  Seeding_Germination_E_crusgalli  0.000300  Photosynthesis  0.000008   \n",
       "3  Seeding_Germination_E_crusgalli  0.000087  Photosynthesis  0.000060   \n",
       "4  Seeding_Germination_E_crusgalli  0.000136  Photosynthesis  0.000140   \n",
       "\n",
       "          Activity_6 Bioactivity Bioactivity(2)     Bioactivity(3)  \n",
       "0                NaN  Phytotoxic            NaN   NoBioactivity(3)  \n",
       "1                NaN  Phytotoxic            NaN   NoBioactivity(3)  \n",
       "2  CaM_Dependent_PDE  Phytotoxic            NaN   NoBioactivity(3)  \n",
       "3      Proton_Uptake  Phytotoxic            NaN   NoBioactivity(3)  \n",
       "4      Proton_Uptake  Phytotoxic            NaN   NoBioactivity(3)  \n",
       "\n",
       "[5 rows x 27 columns]"
      ]
     },
     "execution_count": 57,
     "metadata": {},
     "output_type": "execute_result"
    }
   ],
   "source": [
    "Biofacquim.head()"
   ]
  },
  {
   "cell_type": "code",
   "execution_count": 58,
   "metadata": {},
   "outputs": [
    {
     "data": {
      "text/html": [
       "<div>\n",
       "<style scoped>\n",
       "    .dataframe tbody tr th:only-of-type {\n",
       "        vertical-align: middle;\n",
       "    }\n",
       "\n",
       "    .dataframe tbody tr th {\n",
       "        vertical-align: top;\n",
       "    }\n",
       "\n",
       "    .dataframe thead th {\n",
       "        text-align: right;\n",
       "    }\n",
       "</style>\n",
       "<table border=\"1\" class=\"dataframe\">\n",
       "  <thead>\n",
       "    <tr style=\"text-align: right;\">\n",
       "      <th></th>\n",
       "      <th>Name</th>\n",
       "      <th>SMILES</th>\n",
       "    </tr>\n",
       "  </thead>\n",
       "  <tbody>\n",
       "    <tr>\n",
       "      <th>0</th>\n",
       "      <td>Lichexanthone</td>\n",
       "      <td>O(C)c1cc(O)c2C(=O)c3c(C)cc(OC)cc3Oc2c1</td>\n",
       "    </tr>\n",
       "    <tr>\n",
       "      <th>1</th>\n",
       "      <td>Methyl_haematommate</td>\n",
       "      <td>O=C(OC)c1c(O)c(C=O)c(O)cc1C</td>\n",
       "    </tr>\n",
       "    <tr>\n",
       "      <th>2</th>\n",
       "      <td>Methyl_orsellinate</td>\n",
       "      <td>O=C(OC)c1c(O)cc(O)cc1C</td>\n",
       "    </tr>\n",
       "    <tr>\n",
       "      <th>3</th>\n",
       "      <td>Gyrophoric_acid</td>\n",
       "      <td>O=C(Oc1cc(O)c(C(=O)O)c(C)c1)c1c(O)cc(OC(=O)c2c...</td>\n",
       "    </tr>\n",
       "    <tr>\n",
       "      <th>4</th>\n",
       "      <td>Lecanorin</td>\n",
       "      <td>O=C(Oc1cc(O)cc(C)c1)c1c(O)cc(O)cc1C</td>\n",
       "    </tr>\n",
       "    <tr>\n",
       "      <th>5</th>\n",
       "      <td>Orcinol</td>\n",
       "      <td>Oc1cc(O)cc(C)c1</td>\n",
       "    </tr>\n",
       "    <tr>\n",
       "      <th>6</th>\n",
       "      <td>5-hydroxy-6_8-dimethoxy-2_3-dimethyl-4H-naphth...</td>\n",
       "      <td>O(C)c1c2c(c(O)c3C(=O)C(C)=C(C)Oc13)c(OC)cc(OC)c2</td>\n",
       "    </tr>\n",
       "    <tr>\n",
       "      <th>7</th>\n",
       "      <td>Rubrofusarin_B</td>\n",
       "      <td>O(C)c1c2c(c(O)c3C(=O)C=C(C)Oc13)c(OC)cc(OC)c2</td>\n",
       "    </tr>\n",
       "    <tr>\n",
       "      <th>8</th>\n",
       "      <td>Citrinin</td>\n",
       "      <td>O=C(O)C=1C(=O)C(C)=C2[C@H](C)[C@@H](C)OC=C2C=1O</td>\n",
       "    </tr>\n",
       "    <tr>\n",
       "      <th>9</th>\n",
       "      <td>4-hydroxybenzoic_acid_methyl_ester</td>\n",
       "      <td>O=C(OC)c1ccc(O)cc1</td>\n",
       "    </tr>\n",
       "    <tr>\n",
       "      <th>10</th>\n",
       "      <td>Emodin</td>\n",
       "      <td>O=C1c2c(O)cc(O)cc2C(=O)c2c1c(O)cc(C)c2</td>\n",
       "    </tr>\n",
       "    <tr>\n",
       "      <th>11</th>\n",
       "      <td>4-(1'_5'-dimethylhex-4'-enyl)-2-methylphenol</td>\n",
       "      <td>Oc1c(C)cc([C@@H](CC/C=C(\\C)/C)C)cc1</td>\n",
       "    </tr>\n",
       "    <tr>\n",
       "      <th>12</th>\n",
       "      <td>Cyclolaudenyl_Acetate</td>\n",
       "      <td>O=C(O[C@@H]1C(C)(C)C2[C@@]3([C@]4(C([C@@]5(C)[...</td>\n",
       "    </tr>\n",
       "    <tr>\n",
       "      <th>13</th>\n",
       "      <td>Cyclolaudenone</td>\n",
       "      <td>O=C1C(C)(C)[C@H]2[C@@]3([C@]4([C@H]([C@@]5(C)[...</td>\n",
       "    </tr>\n",
       "    <tr>\n",
       "      <th>14</th>\n",
       "      <td>Tillandsinone</td>\n",
       "      <td>O=C1C(C)(C)[C@H]2[C@@]3([C@]4([C@H]([C@@]5(C)[...</td>\n",
       "    </tr>\n",
       "    <tr>\n",
       "      <th>15</th>\n",
       "      <td>Cyclolaudenyl_formate</td>\n",
       "      <td>O=CO[C@@H]1C(C)(C)C2[C@@]3([C@]4(C([C@@]5(C)[C...</td>\n",
       "    </tr>\n",
       "    <tr>\n",
       "      <th>16</th>\n",
       "      <td>Cyclolaudenol</td>\n",
       "      <td>O[C@@H]1C(C)(C)[C@H]2[C@@]3([C@]4([C@H]([C@@]5...</td>\n",
       "    </tr>\n",
       "    <tr>\n",
       "      <th>17</th>\n",
       "      <td>1-O-[12-O-(12S)-dihydro-12_13-dihydroxy-xantho...</td>\n",
       "      <td>O([C@@H](C(O)(C)C)C[C@H](C(C)c1cc(O)c(C)cc1)C)...</td>\n",
       "    </tr>\n",
       "    <tr>\n",
       "      <th>18</th>\n",
       "      <td>Trhachylobanoic_acid</td>\n",
       "      <td>O=C(O)[C@@]1(C)[C@@H]2[C@](C)([C@H]3[C@@]4(C[C...</td>\n",
       "    </tr>\n",
       "    <tr>\n",
       "      <th>19</th>\n",
       "      <td>12_13-dihydro-12_13-dihydroxy-xanthorrizol</td>\n",
       "      <td>OC(C(O)CC[C@@H](C)c1cc(O)c(C)cc1)(C)C</td>\n",
       "    </tr>\n",
       "    <tr>\n",
       "      <th>20</th>\n",
       "      <td>Xanthorrhizol</td>\n",
       "      <td>Oc1c(C)ccc([C@@H](CC/C=C(\\C)/C)C)c1</td>\n",
       "    </tr>\n",
       "    <tr>\n",
       "      <th>21</th>\n",
       "      <td>12_13-epoxy-xanthorrhizol</td>\n",
       "      <td>Oc1c(C)ccc([C@@H](CCC2C(C)(C)O2)C)c1</td>\n",
       "    </tr>\n",
       "    <tr>\n",
       "      <th>22</th>\n",
       "      <td>p-hydroxybenzoic_acid</td>\n",
       "      <td>O=C(O)Cc1ccc(O)cc1</td>\n",
       "    </tr>\n",
       "    <tr>\n",
       "      <th>23</th>\n",
       "      <td>4-hydroxy-benzoic_acid_methyl_ester</td>\n",
       "      <td>O=C(OC)Cc1ccc(O)cc1</td>\n",
       "    </tr>\n",
       "    <tr>\n",
       "      <th>24</th>\n",
       "      <td>8-hydroxy-6-methyl-9-oxo-9H-xanthene-1-carboxy...</td>\n",
       "      <td>O=C(OC)c1c2C(=O)c3c(O)cc(C)cc3Oc2ccc1</td>\n",
       "    </tr>\n",
       "    <tr>\n",
       "      <th>25</th>\n",
       "      <td>Sitosterol-3-O-b-glucoside</td>\n",
       "      <td>O([C@H]1[C@H](O)[C@@H](O)[C@H](O)[C@@H](CO)O1)...</td>\n",
       "    </tr>\n",
       "    <tr>\n",
       "      <th>26</th>\n",
       "      <td>Friedelin</td>\n",
       "      <td>O=C1[C@H](C)[C@]2(C)[C@H]([C@@]3(C)[C@@H]([C@]...</td>\n",
       "    </tr>\n",
       "    <tr>\n",
       "      <th>27</th>\n",
       "      <td>Canophyllol</td>\n",
       "      <td>O=C1[C@H](C)[C@]2(C)[C@H]([C@@]3(C)[C@@H]([C@]...</td>\n",
       "    </tr>\n",
       "    <tr>\n",
       "      <th>28</th>\n",
       "      <td>Canophyllal</td>\n",
       "      <td>O=C[C@]12[C@H]([C@@]3(C)[C@@](C)([C@@H]4[C@](C...</td>\n",
       "    </tr>\n",
       "    <tr>\n",
       "      <th>29</th>\n",
       "      <td>(-)-Epicatechin</td>\n",
       "      <td>O[C@H]1[C@@H](c2cc(O)c(O)cc2)Oc2c(c(O)cc(O)c2)C1</td>\n",
       "    </tr>\n",
       "    <tr>\n",
       "      <th>...</th>\n",
       "      <td>...</td>\n",
       "      <td>...</td>\n",
       "    </tr>\n",
       "    <tr>\n",
       "      <th>393</th>\n",
       "      <td>Anastomosine</td>\n",
       "      <td>O=C1[C@]2(C)[C@@H]3[C@@H](O1)C=C1C(=O)C(C(C)C)...</td>\n",
       "    </tr>\n",
       "    <tr>\n",
       "      <th>394</th>\n",
       "      <td>7_20-dihydroanastomosine</td>\n",
       "      <td>O=C1[C@]2(C)[C@@H]3[C@@H](O1)CC=1C(=O)C(C(C)C)...</td>\n",
       "    </tr>\n",
       "    <tr>\n",
       "      <th>395</th>\n",
       "      <td>1_2-anhydroballotiquinone</td>\n",
       "      <td>O=C1[C@]2(C)[C@@H]3[C@H]([C@@H](O)C=4C(=O)C(C(...</td>\n",
       "    </tr>\n",
       "    <tr>\n",
       "      <th>396</th>\n",
       "      <td>Ballotiquinone</td>\n",
       "      <td>O=C1[C@]2(C)[C@@H]3[C@H]([C@@H](O)C=4C(=O)C(C(...</td>\n",
       "    </tr>\n",
       "    <tr>\n",
       "      <th>397</th>\n",
       "      <td>6_7-anhydroballotiquinone</td>\n",
       "      <td>O=C1[C@]2(C)[C@H]3C([C@H](O)CC2)=CC=2C(=O)C(O)...</td>\n",
       "    </tr>\n",
       "    <tr>\n",
       "      <th>398</th>\n",
       "      <td>Icetexone</td>\n",
       "      <td>O=C1[C@]2(C)[C@H]3[C@@](O1)(CC=1C(=O)C(O)=C(C(...</td>\n",
       "    </tr>\n",
       "    <tr>\n",
       "      <th>399</th>\n",
       "      <td>6_7_11_14-tetrahydro-7-oxo-icetexone</td>\n",
       "      <td>O=C1[C@]2(C)[C@H]3[C@@](O1)(Cc1c(O)c(O)c(C(C)C...</td>\n",
       "    </tr>\n",
       "    <tr>\n",
       "      <th>400</th>\n",
       "      <td>Scoparone</td>\n",
       "      <td>O(C)c1c(OC)cc2c(OC(=O)C=C2)c1</td>\n",
       "    </tr>\n",
       "    <tr>\n",
       "      <th>401</th>\n",
       "      <td>4'_7-dimethylapigenin</td>\n",
       "      <td>O(C)c1cc(O)c2C(=O)C=C(c3ccc(OC)cc3)Oc2c1</td>\n",
       "    </tr>\n",
       "    <tr>\n",
       "      <th>402</th>\n",
       "      <td>Herniarin</td>\n",
       "      <td>O(C)c1cc2OC(=O)C=Cc2cc1</td>\n",
       "    </tr>\n",
       "    <tr>\n",
       "      <th>403</th>\n",
       "      <td>6-acetyl-5-hydroxy-2-hydroxymethyl-2-methyl-2H...</td>\n",
       "      <td>O=C(C)c1c(O)c2c(OC(CO)(C)C=C2)cc1</td>\n",
       "    </tr>\n",
       "    <tr>\n",
       "      <th>404</th>\n",
       "      <td>Caleins_A</td>\n",
       "      <td>O=C(O[C@@H]1[C@@H](OC(=O)C)[C@](O)(C)C(=O)/C=C...</td>\n",
       "    </tr>\n",
       "    <tr>\n",
       "      <th>405</th>\n",
       "      <td>Caleins_C</td>\n",
       "      <td>O=C(O[C@@H]1[C@@H](OC(=O)C)[C@](O)(C)C(=O)/C=C...</td>\n",
       "    </tr>\n",
       "    <tr>\n",
       "      <th>406</th>\n",
       "      <td>3_5-Dihydroxy-6_7_3'_4'-tetramethoxyflavone</td>\n",
       "      <td>O(C)c1c(O)c2C(=O)C(O)=C(c3cc(OC)c(OC)cc3)Oc2cc1OC</td>\n",
       "    </tr>\n",
       "    <tr>\n",
       "      <th>407</th>\n",
       "      <td>2_3_4-Trihydroxybenzaldehyde</td>\n",
       "      <td>O=Cc1c(O)c(O)c(O)cc1</td>\n",
       "    </tr>\n",
       "    <tr>\n",
       "      <th>408</th>\n",
       "      <td>3_4-dimethoxybenzaldehyde</td>\n",
       "      <td>O=Cc1cc(OC)c(OC)cc1</td>\n",
       "    </tr>\n",
       "    <tr>\n",
       "      <th>409</th>\n",
       "      <td>5-hydroxymethylfurfural</td>\n",
       "      <td>O=Cc1oc(CO)cc1</td>\n",
       "    </tr>\n",
       "    <tr>\n",
       "      <th>410</th>\n",
       "      <td>8-b-D-glucopyranosyloxy-4-methoxy5-methyl-coum...</td>\n",
       "      <td>O([C@H]1[C@H](O)[C@@H](O)[C@H](O)[C@@H](CO)O1)...</td>\n",
       "    </tr>\n",
       "    <tr>\n",
       "      <th>411</th>\n",
       "      <td>b-Pipitzol</td>\n",
       "      <td>O=C1C(O)=C(C)[C@@H]2C(C)(C)[C@@H]3[C@@]1([C@H]...</td>\n",
       "    </tr>\n",
       "    <tr>\n",
       "      <th>412</th>\n",
       "      <td>a-Pipitzol</td>\n",
       "      <td>O=C1C(O)=C(C)[C@H]2C(C)(C)[C@H]3[C@]1([C@H](C)...</td>\n",
       "    </tr>\n",
       "    <tr>\n",
       "      <th>413</th>\n",
       "      <td>Perezone</td>\n",
       "      <td>O=C1C(O)=C([C@@H](CCC=C(C)C)C)C(=O)C=C1C</td>\n",
       "    </tr>\n",
       "    <tr>\n",
       "      <th>414</th>\n",
       "      <td>Galangin_5-methylether</td>\n",
       "      <td>O(C)c1c2C(=O)C(O)=C(c3ccccc3)Oc2cc(O)c1</td>\n",
       "    </tr>\n",
       "    <tr>\n",
       "      <th>415</th>\n",
       "      <td>Alpinetin</td>\n",
       "      <td>O(C)c1c2C(=O)CC(c3ccccc3)Oc2cc(O)c1</td>\n",
       "    </tr>\n",
       "    <tr>\n",
       "      <th>416</th>\n",
       "      <td>Pinobanksin_5-methylether</td>\n",
       "      <td>O(C)c1c2C(=O)[C@H](O)C(c3ccccc3)Oc2cc(O)c1</td>\n",
       "    </tr>\n",
       "    <tr>\n",
       "      <th>417</th>\n",
       "      <td>Pinostrobin</td>\n",
       "      <td>O(C)c1cc(O)c2C(=O)CC(c3ccccc3)Oc2c1</td>\n",
       "    </tr>\n",
       "    <tr>\n",
       "      <th>418</th>\n",
       "      <td>Alpinone</td>\n",
       "      <td>O(C)c1cc(O)c2C(=O)[C@H](O)C(c3ccccc3)Oc2c1</td>\n",
       "    </tr>\n",
       "    <tr>\n",
       "      <th>419</th>\n",
       "      <td>Kaempferide</td>\n",
       "      <td>O(C)c1ccc(C2=C(O)C(=O)c3c(O)cc(O)cc3O2)cc1</td>\n",
       "    </tr>\n",
       "    <tr>\n",
       "      <th>420</th>\n",
       "      <td>Pinobanksin</td>\n",
       "      <td>O=C1[C@H](O)C(c2ccccc2)Oc2c1c(O)cc(O)c2</td>\n",
       "    </tr>\n",
       "    <tr>\n",
       "      <th>421</th>\n",
       "      <td>Chrysin</td>\n",
       "      <td>O=C1c2c(O)cc(O)cc2OC(c2ccccc2)=C1</td>\n",
       "    </tr>\n",
       "    <tr>\n",
       "      <th>422</th>\n",
       "      <td>Pinocembrin</td>\n",
       "      <td>O=C1c2c(O)cc(O)cc2OC(c2ccccc2)C1</td>\n",
       "    </tr>\n",
       "  </tbody>\n",
       "</table>\n",
       "<p>423 rows × 2 columns</p>\n",
       "</div>"
      ],
      "text/plain": [
       "                                                  Name  \\\n",
       "0                                        Lichexanthone   \n",
       "1                                  Methyl_haematommate   \n",
       "2                                   Methyl_orsellinate   \n",
       "3                                      Gyrophoric_acid   \n",
       "4                                            Lecanorin   \n",
       "5                                              Orcinol   \n",
       "6    5-hydroxy-6_8-dimethoxy-2_3-dimethyl-4H-naphth...   \n",
       "7                                       Rubrofusarin_B   \n",
       "8                                             Citrinin   \n",
       "9                   4-hydroxybenzoic_acid_methyl_ester   \n",
       "10                                              Emodin   \n",
       "11        4-(1'_5'-dimethylhex-4'-enyl)-2-methylphenol   \n",
       "12                               Cyclolaudenyl_Acetate   \n",
       "13                                      Cyclolaudenone   \n",
       "14                                       Tillandsinone   \n",
       "15                               Cyclolaudenyl_formate   \n",
       "16                                       Cyclolaudenol   \n",
       "17   1-O-[12-O-(12S)-dihydro-12_13-dihydroxy-xantho...   \n",
       "18                                Trhachylobanoic_acid   \n",
       "19          12_13-dihydro-12_13-dihydroxy-xanthorrizol   \n",
       "20                                       Xanthorrhizol   \n",
       "21                           12_13-epoxy-xanthorrhizol   \n",
       "22                               p-hydroxybenzoic_acid   \n",
       "23                 4-hydroxy-benzoic_acid_methyl_ester   \n",
       "24   8-hydroxy-6-methyl-9-oxo-9H-xanthene-1-carboxy...   \n",
       "25                          Sitosterol-3-O-b-glucoside   \n",
       "26                                           Friedelin   \n",
       "27                                         Canophyllol   \n",
       "28                                         Canophyllal   \n",
       "29                                     (-)-Epicatechin   \n",
       "..                                                 ...   \n",
       "393                                       Anastomosine   \n",
       "394                           7_20-dihydroanastomosine   \n",
       "395                          1_2-anhydroballotiquinone   \n",
       "396                                     Ballotiquinone   \n",
       "397                          6_7-anhydroballotiquinone   \n",
       "398                                          Icetexone   \n",
       "399               6_7_11_14-tetrahydro-7-oxo-icetexone   \n",
       "400                                          Scoparone   \n",
       "401                              4'_7-dimethylapigenin   \n",
       "402                                          Herniarin   \n",
       "403  6-acetyl-5-hydroxy-2-hydroxymethyl-2-methyl-2H...   \n",
       "404                                          Caleins_A   \n",
       "405                                          Caleins_C   \n",
       "406        3_5-Dihydroxy-6_7_3'_4'-tetramethoxyflavone   \n",
       "407                       2_3_4-Trihydroxybenzaldehyde   \n",
       "408                          3_4-dimethoxybenzaldehyde   \n",
       "409                            5-hydroxymethylfurfural   \n",
       "410  8-b-D-glucopyranosyloxy-4-methoxy5-methyl-coum...   \n",
       "411                                         b-Pipitzol   \n",
       "412                                         a-Pipitzol   \n",
       "413                                           Perezone   \n",
       "414                             Galangin_5-methylether   \n",
       "415                                          Alpinetin   \n",
       "416                          Pinobanksin_5-methylether   \n",
       "417                                        Pinostrobin   \n",
       "418                                           Alpinone   \n",
       "419                                        Kaempferide   \n",
       "420                                        Pinobanksin   \n",
       "421                                            Chrysin   \n",
       "422                                        Pinocembrin   \n",
       "\n",
       "                                                SMILES  \n",
       "0               O(C)c1cc(O)c2C(=O)c3c(C)cc(OC)cc3Oc2c1  \n",
       "1                          O=C(OC)c1c(O)c(C=O)c(O)cc1C  \n",
       "2                               O=C(OC)c1c(O)cc(O)cc1C  \n",
       "3    O=C(Oc1cc(O)c(C(=O)O)c(C)c1)c1c(O)cc(OC(=O)c2c...  \n",
       "4                  O=C(Oc1cc(O)cc(C)c1)c1c(O)cc(O)cc1C  \n",
       "5                                      Oc1cc(O)cc(C)c1  \n",
       "6     O(C)c1c2c(c(O)c3C(=O)C(C)=C(C)Oc13)c(OC)cc(OC)c2  \n",
       "7        O(C)c1c2c(c(O)c3C(=O)C=C(C)Oc13)c(OC)cc(OC)c2  \n",
       "8      O=C(O)C=1C(=O)C(C)=C2[C@H](C)[C@@H](C)OC=C2C=1O  \n",
       "9                                   O=C(OC)c1ccc(O)cc1  \n",
       "10              O=C1c2c(O)cc(O)cc2C(=O)c2c1c(O)cc(C)c2  \n",
       "11                 Oc1c(C)cc([C@@H](CC/C=C(\\C)/C)C)cc1  \n",
       "12   O=C(O[C@@H]1C(C)(C)C2[C@@]3([C@]4(C([C@@]5(C)[...  \n",
       "13   O=C1C(C)(C)[C@H]2[C@@]3([C@]4([C@H]([C@@]5(C)[...  \n",
       "14   O=C1C(C)(C)[C@H]2[C@@]3([C@]4([C@H]([C@@]5(C)[...  \n",
       "15   O=CO[C@@H]1C(C)(C)C2[C@@]3([C@]4(C([C@@]5(C)[C...  \n",
       "16   O[C@@H]1C(C)(C)[C@H]2[C@@]3([C@]4([C@H]([C@@]5...  \n",
       "17   O([C@@H](C(O)(C)C)C[C@H](C(C)c1cc(O)c(C)cc1)C)...  \n",
       "18   O=C(O)[C@@]1(C)[C@@H]2[C@](C)([C@H]3[C@@]4(C[C...  \n",
       "19               OC(C(O)CC[C@@H](C)c1cc(O)c(C)cc1)(C)C  \n",
       "20                 Oc1c(C)ccc([C@@H](CC/C=C(\\C)/C)C)c1  \n",
       "21                Oc1c(C)ccc([C@@H](CCC2C(C)(C)O2)C)c1  \n",
       "22                                  O=C(O)Cc1ccc(O)cc1  \n",
       "23                                 O=C(OC)Cc1ccc(O)cc1  \n",
       "24               O=C(OC)c1c2C(=O)c3c(O)cc(C)cc3Oc2ccc1  \n",
       "25   O([C@H]1[C@H](O)[C@@H](O)[C@H](O)[C@@H](CO)O1)...  \n",
       "26   O=C1[C@H](C)[C@]2(C)[C@H]([C@@]3(C)[C@@H]([C@]...  \n",
       "27   O=C1[C@H](C)[C@]2(C)[C@H]([C@@]3(C)[C@@H]([C@]...  \n",
       "28   O=C[C@]12[C@H]([C@@]3(C)[C@@](C)([C@@H]4[C@](C...  \n",
       "29    O[C@H]1[C@@H](c2cc(O)c(O)cc2)Oc2c(c(O)cc(O)c2)C1  \n",
       "..                                                 ...  \n",
       "393  O=C1[C@]2(C)[C@@H]3[C@@H](O1)C=C1C(=O)C(C(C)C)...  \n",
       "394  O=C1[C@]2(C)[C@@H]3[C@@H](O1)CC=1C(=O)C(C(C)C)...  \n",
       "395  O=C1[C@]2(C)[C@@H]3[C@H]([C@@H](O)C=4C(=O)C(C(...  \n",
       "396  O=C1[C@]2(C)[C@@H]3[C@H]([C@@H](O)C=4C(=O)C(C(...  \n",
       "397  O=C1[C@]2(C)[C@H]3C([C@H](O)CC2)=CC=2C(=O)C(O)...  \n",
       "398  O=C1[C@]2(C)[C@H]3[C@@](O1)(CC=1C(=O)C(O)=C(C(...  \n",
       "399  O=C1[C@]2(C)[C@H]3[C@@](O1)(Cc1c(O)c(O)c(C(C)C...  \n",
       "400                      O(C)c1c(OC)cc2c(OC(=O)C=C2)c1  \n",
       "401           O(C)c1cc(O)c2C(=O)C=C(c3ccc(OC)cc3)Oc2c1  \n",
       "402                            O(C)c1cc2OC(=O)C=Cc2cc1  \n",
       "403                  O=C(C)c1c(O)c2c(OC(CO)(C)C=C2)cc1  \n",
       "404  O=C(O[C@@H]1[C@@H](OC(=O)C)[C@](O)(C)C(=O)/C=C...  \n",
       "405  O=C(O[C@@H]1[C@@H](OC(=O)C)[C@](O)(C)C(=O)/C=C...  \n",
       "406  O(C)c1c(O)c2C(=O)C(O)=C(c3cc(OC)c(OC)cc3)Oc2cc1OC  \n",
       "407                               O=Cc1c(O)c(O)c(O)cc1  \n",
       "408                                O=Cc1cc(OC)c(OC)cc1  \n",
       "409                                     O=Cc1oc(CO)cc1  \n",
       "410  O([C@H]1[C@H](O)[C@@H](O)[C@H](O)[C@@H](CO)O1)...  \n",
       "411  O=C1C(O)=C(C)[C@@H]2C(C)(C)[C@@H]3[C@@]1([C@H]...  \n",
       "412  O=C1C(O)=C(C)[C@H]2C(C)(C)[C@H]3[C@]1([C@H](C)...  \n",
       "413           O=C1C(O)=C([C@@H](CCC=C(C)C)C)C(=O)C=C1C  \n",
       "414            O(C)c1c2C(=O)C(O)=C(c3ccccc3)Oc2cc(O)c1  \n",
       "415                O(C)c1c2C(=O)CC(c3ccccc3)Oc2cc(O)c1  \n",
       "416         O(C)c1c2C(=O)[C@H](O)C(c3ccccc3)Oc2cc(O)c1  \n",
       "417                O(C)c1cc(O)c2C(=O)CC(c3ccccc3)Oc2c1  \n",
       "418         O(C)c1cc(O)c2C(=O)[C@H](O)C(c3ccccc3)Oc2c1  \n",
       "419         O(C)c1ccc(C2=C(O)C(=O)c3c(O)cc(O)cc3O2)cc1  \n",
       "420            O=C1[C@H](O)C(c2ccccc2)Oc2c1c(O)cc(O)c2  \n",
       "421                  O=C1c2c(O)cc(O)cc2OC(c2ccccc2)=C1  \n",
       "422                   O=C1c2c(O)cc(O)cc2OC(c2ccccc2)C1  \n",
       "\n",
       "[423 rows x 2 columns]"
      ]
     },
     "execution_count": 58,
     "metadata": {},
     "output_type": "execute_result"
    }
   ],
   "source": [
    "#Visualiazr una columna\n",
    "Biofacquim.loc[:,[\"Name\",\"SMILES\"]]"
   ]
  },
  {
   "cell_type": "code",
   "execution_count": 59,
   "metadata": {},
   "outputs": [
    {
     "data": {
      "text/plain": [
       "ID                                               FQNP392\n",
       "Name                                       Lichexanthone\n",
       "Reference              J_Nat_Prod_2000;63_(10):1396-1399\n",
       "Year                                                2000\n",
       "Kingdom                                           Fungus\n",
       "Genus                                         Parmotrema\n",
       "Specie                              Parmotrema_tinctorum\n",
       "SMILES            O(C)c1cc(O)c2C(=O)c3c(C)cc(OC)cc3Oc2c1\n",
       "DOI                                    10.1021/np0001326\n",
       "Journal                      Journal_of_Natural_Products\n",
       "Site                                         Los_Tuxtlas\n",
       "State                                           Veracruz\n",
       "IC50_1                                            >0.002\n",
       "Activity_1              Seeding_Growth_A_hypochondriacus\n",
       "IC50_2                                            >0.002\n",
       "Activity_2                    Seeding_Growth_E_crusgalli\n",
       "IC50_3                                            >0.002\n",
       "Activity_3         Seeding_Germination_A_hypochondriacus\n",
       "IC50_4                                            >0.002\n",
       "Activity_4               Seeding_Germination_E_crusgalli\n",
       "IC50_5                                            0.0003\n",
       "Activity_5                                Photosynthesis\n",
       "IC50_6                                               NaN\n",
       "Activity_6                                           NaN\n",
       "Bioactivity                                   Phytotoxic\n",
       "Bioactivity(2)                                       NaN\n",
       "Bioactivity(3)                          NoBioactivity(3)\n",
       "Name: 0, dtype: object"
      ]
     },
     "execution_count": 59,
     "metadata": {},
     "output_type": "execute_result"
    }
   ],
   "source": [
    "#Visualizar una fila\n",
    "Biofacquim.iloc[0,:]"
   ]
  },
  {
   "cell_type": "code",
   "execution_count": 60,
   "metadata": {},
   "outputs": [
    {
     "data": {
      "text/plain": [
       "'Lichexanthone'"
      ]
     },
     "execution_count": 60,
     "metadata": {},
     "output_type": "execute_result"
    }
   ],
   "source": [
    "#visualice an specific cell\n",
    "Biofacquim.loc[0,\"Name\"]"
   ]
  },
  {
   "cell_type": "code",
   "execution_count": 61,
   "metadata": {},
   "outputs": [],
   "source": [
    "#Generar una lista de los nombres\n",
    "names = list(Biofacquim[\"Name\"])"
   ]
  },
  {
   "cell_type": "code",
   "execution_count": 62,
   "metadata": {},
   "outputs": [],
   "source": [
    "#Generar una lista de smiles\n",
    "smiles = list(Biofacquim[\"SMILES\"])"
   ]
  },
  {
   "cell_type": "code",
   "execution_count": 63,
   "metadata": {},
   "outputs": [
    {
     "data": {
      "text/plain": [
       "'Lichexanthone'"
      ]
     },
     "execution_count": 63,
     "metadata": {},
     "output_type": "execute_result"
    }
   ],
   "source": [
    "#obtener informacion de dos moleculas\n",
    "#molecula1\n",
    "name1 = Biofacquim.loc[0,\"Name\"]\n",
    "name1"
   ]
  },
  {
   "cell_type": "code",
   "execution_count": 64,
   "metadata": {},
   "outputs": [
    {
     "data": {
      "text/plain": [
       "'O(C)c1cc(O)c2C(=O)c3c(C)cc(OC)cc3Oc2c1'"
      ]
     },
     "execution_count": 64,
     "metadata": {},
     "output_type": "execute_result"
    }
   ],
   "source": [
    "smile1 = Biofacquim.loc[0,\"SMILES\"]\n",
    "smile1\n",
    "smile1"
   ]
  },
  {
   "cell_type": "code",
   "execution_count": 65,
   "metadata": {},
   "outputs": [
    {
     "data": {
      "text/plain": [
       "'Methyl_haematommate'"
      ]
     },
     "execution_count": 65,
     "metadata": {},
     "output_type": "execute_result"
    }
   ],
   "source": [
    "#molecula2\n",
    "name2 = Biofacquim.loc[1,\"Name\"]\n",
    "name2"
   ]
  },
  {
   "cell_type": "code",
   "execution_count": 66,
   "metadata": {},
   "outputs": [
    {
     "data": {
      "text/plain": [
       "'O=C(OC)c1c(O)c(C=O)c(O)cc1C'"
      ]
     },
     "execution_count": 66,
     "metadata": {},
     "output_type": "execute_result"
    }
   ],
   "source": [
    "smile2 = Biofacquim.loc[1,\"SMILES\"]\n",
    "smile2"
   ]
  },
  {
   "cell_type": "markdown",
   "metadata": {},
   "source": [
    "\"\"\"\n",
    "RDKIT\n",
    "\"\"\""
   ]
  },
  {
   "cell_type": "code",
   "execution_count": 67,
   "metadata": {},
   "outputs": [],
   "source": [
    "from rdkit import Chem, DataStructs\n",
    "from rdkit.Chem import AllChem, MACCSkeys\n",
    "from rdkit.Chem.Fingerprints import FingerprintMols\n",
    "import itertools as it"
   ]
  },
  {
   "cell_type": "code",
   "execution_count": null,
   "metadata": {},
   "outputs": [],
   "source": []
  },
  {
   "cell_type": "code",
   "execution_count": 78,
   "metadata": {},
   "outputs": [
    {
     "data": {
      "text/plain": [
       "[<rdkit.Chem.rdchem.Mol at 0x7f2bcc8e30d0>]"
      ]
     },
     "execution_count": 78,
     "metadata": {},
     "output_type": "execute_result"
    }
   ],
   "source": [
    "#convertir string a molécula\n",
    "m1 = [Chem.MolFromSmiles(smile1)]\n",
    "m1"
   ]
  },
  {
   "cell_type": "code",
   "execution_count": 72,
   "metadata": {},
   "outputs": [
    {
     "data": {
      "text/plain": [
       "[<rdkit.Chem.rdchem.Mol at 0x7f2bcc8dd850>]"
      ]
     },
     "execution_count": 72,
     "metadata": {},
     "output_type": "execute_result"
    }
   ],
   "source": [
    "m2 = [Chem.MolFromSmiles(smile2)]\n",
    "m2"
   ]
  },
  {
   "cell_type": "code",
   "execution_count": 82,
   "metadata": {},
   "outputs": [
    {
     "data": {
      "text/plain": [
       "[<rdkit.DataStructs.cDataStructs.ExplicitBitVect at 0x7f2bcc8e36c0>]"
      ]
     },
     "execution_count": 82,
     "metadata": {},
     "output_type": "execute_result"
    }
   ],
   "source": [
    "#Calcular Maccs Keys\n",
    "fp1 = [MACCSkeys.GenMACCSKeys(x) for x in m1]\n",
    "fp1"
   ]
  },
  {
   "cell_type": "code",
   "execution_count": 83,
   "metadata": {},
   "outputs": [
    {
     "data": {
      "text/plain": [
       "[<rdkit.DataStructs.cDataStructs.ExplicitBitVect at 0x7f2bcc8e37b0>]"
      ]
     },
     "execution_count": 83,
     "metadata": {},
     "output_type": "execute_result"
    }
   ],
   "source": [
    "fp2 = [MACCSkeys.GenMACCSKeys(x) for x in m2]\n",
    "fp2"
   ]
  },
  {
   "cell_type": "code",
   "execution_count": 86,
   "metadata": {},
   "outputs": [],
   "source": [
    "#Calcular distancia de tanimoto\n",
    "Tanimoto_Distance = DataStructs.FingerprintSimilarity(fp1[0],fp2[0])"
   ]
  },
  {
   "cell_type": "code",
   "execution_count": 88,
   "metadata": {},
   "outputs": [
    {
     "data": {
      "text/plain": [
       "0.5757575757575758"
      ]
     },
     "execution_count": 88,
     "metadata": {},
     "output_type": "execute_result"
    }
   ],
   "source": [
    "Tanimoto_Distance"
   ]
  },
  {
   "cell_type": "code",
   "execution_count": 89,
   "metadata": {},
   "outputs": [],
   "source": [
    "#Visualizar moleculas\n",
    "#https://github.com/rdkit/rdkit-tutorials"
   ]
  },
  {
   "cell_type": "code",
   "execution_count": 90,
   "metadata": {},
   "outputs": [],
   "source": [
    "from rdkit import Chem\n",
    "from rdkit.Chem.Draw import IPythonConsole\n",
    "from rdkit.Chem import Draw"
   ]
  },
  {
   "cell_type": "code",
   "execution_count": 91,
   "metadata": {},
   "outputs": [],
   "source": [
    "#Molecula1"
   ]
  },
  {
   "cell_type": "code",
   "execution_count": 94,
   "metadata": {},
   "outputs": [
    {
     "data": {
      "image/png": "[encoded data removed]",
      "text/plain": [
       "<rdkit.Chem.rdchem.Mol at 0x7f2bcc86f170>"
      ]
     },
     "execution_count": 94,
     "metadata": {},
     "output_type": "execute_result"
    }
   ],
   "source": [
    "molecula1 = Chem.MolFromSmiles('O(C)c1cc(O)c2C(=O)c3c(C)cc(OC)cc3Oc2c1')\n",
    "molecula1"
   ]
  },
  {
   "cell_type": "code",
   "execution_count": 96,
   "metadata": {},
   "outputs": [
    {
     "data": {
      "image/png": "[encoded data removed]",
      "text/plain": [
       "<rdkit.Chem.rdchem.Mol at 0x7f2bcc86f800>"
      ]
     },
     "execution_count": 96,
     "metadata": {},
     "output_type": "execute_result"
    }
   ],
   "source": [
    "molecula2 = Chem.MolFromSmiles(\"O=C(OC)c1c(O)c(C=O)c(O)cc1C\")\n",
    "molecula2"
   ]
  },
  {
   "cell_type": "code",
   "execution_count": null,
   "metadata": {},
   "outputs": [],
   "source": []
  }
 ],
 "metadata": {
  "kernelspec": {
   "display_name": "Python 3",
   "language": "python",
   "name": "python3"
  },
  "language_info": {
   "codemirror_mode": {
    "name": "ipython",
    "version": 3
   },
   "file_extension": ".py",
   "mimetype": "text/x-python",
   "name": "python",
   "nbconvert_exporter": "python",
   "pygments_lexer": "ipython3",
   "version": "3.7.3"
  }
 },
 "nbformat": 4,
 "nbformat_minor": 2
}
